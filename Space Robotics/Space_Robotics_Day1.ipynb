{
  "nbformat": 4,
  "nbformat_minor": 0,
  "metadata": {
    "colab": {
      "name": "Space Robotics-Day1.ipynb",
      "provenance": [],
      "authorship_tag": "ABX9TyOz667mJjPf9vjqs4T2acWY",
      "include_colab_link": true
    },
    "kernelspec": {
      "name": "python3",
      "display_name": "Python 3"
    },
    "language_info": {
      "name": "python"
    }
  },
  "cells": [
    {
      "cell_type": "markdown",
      "metadata": {
        "id": "view-in-github",
        "colab_type": "text"
      },
      "source": [
        "<a href=\"https://colab.research.google.com/github/shreya024/Spaceonova-Applications-of-Programming/blob/main/Space%20Robotics/Space_Robotics_Day1.ipynb\" target=\"_parent\"><img src=\"https://colab.research.google.com/assets/colab-badge.svg\" alt=\"Open In Colab\"/></a>"
      ]
    },
    {
      "cell_type": "markdown",
      "source": [
        "# Space and Robotics\n",
        "- Deep Space Exploration\n",
        "- Survey of planetary surface\n",
        "- Assembly and Construction\n",
        "- Service and Maintenance\n",
        "- Robotic Landings"
      ],
      "metadata": {
        "id": "w9kVmVvrJ1EV"
      }
    },
    {
      "cell_type": "markdown",
      "source": [
        "# Working Areas of Space Robots\n",
        "- Orbital Robots\n",
        "  - Orbital Operations and Services\n",
        "  - Space Debris Removal\n",
        "  - Microgravity Research\n",
        "- Planetary Robots\n",
        "  - Probes for Scientific Exploration\n",
        "  - Precursors of future human expedition to remote celestial bodies"
      ],
      "metadata": {
        "id": "9-unfAxecx5L"
      }
    },
    {
      "cell_type": "markdown",
      "source": [
        "# Space Robotics Research\n",
        "- Mobility and Locomotion\n",
        "  - Wheeled\n",
        "  - Limbed\n",
        "  - Flying\n",
        "  - Tumbling/bouncing\n",
        "  - Floating\n",
        "  - Sliding/gecko\n",
        "- Autonomy and Intelligence\n",
        "- Sample acquisition analysis and delivery"
      ],
      "metadata": {
        "id": "pZIOvRn0dmyj"
      }
    },
    {
      "cell_type": "markdown",
      "source": [
        "# Challenges in Space Robotics\n",
        "- Protection from Harsh Space Environment\n",
        "- Mobility in different terrains\n",
        "- Mass and Power Limitations\n",
        "- Reliability\n",
        "- Human Robotic Interaction\n",
        "- Remote Operations\n",
        "- Autonomous capabilities(A.I)\n",
        "- Testing and Qualification\n",
        "- Swarm/Multi-agent Exploration\n",
        "- Modular Robotics\n",
        "- Self-repairing Robots\n",
        "- Shape changing/Origami robots\n",
        "- In-Situ Manufacturing and Services"
      ],
      "metadata": {
        "id": "L3aPwRw0J7Vx"
      }
    }
  ]
}