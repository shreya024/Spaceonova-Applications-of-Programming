{
  "nbformat": 4,
  "nbformat_minor": 0,
  "metadata": {
    "colab": {
      "name": "Spaceonova Day6.ipynb",
      "provenance": [],
      "toc_visible": true,
      "authorship_tag": "ABX9TyNIEZ2KxsUsKAgwY3ifVgAq",
      "include_colab_link": true
    },
    "kernelspec": {
      "name": "python3",
      "display_name": "Python 3"
    },
    "language_info": {
      "name": "python"
    }
  },
  "cells": [
    {
      "cell_type": "markdown",
      "metadata": {
        "id": "view-in-github",
        "colab_type": "text"
      },
      "source": [
        "<a href=\"https://colab.research.google.com/github/shreya024/Spaceonova-Applications-of-Programming/blob/main/Day6/Spaceonova_Day6.ipynb\" target=\"_parent\"><img src=\"https://colab.research.google.com/assets/colab-badge.svg\" alt=\"Open In Colab\"/></a>"
      ]
    },
    {
      "cell_type": "markdown",
      "metadata": {
        "id": "A0A1HT2BynYu"
      },
      "source": [
        "# Expansion of the Universe\n",
        "\n",
        "- Edwin Hubble discovered that the universe is expanding\n",
        "- Nearest Galaxy: Andromeda Galaxy, more blue shifted values in spectrum\n",
        "- Farthest Galaxy: GN-z11, more red shifted values in spectrum\n",
        "\n"
      ]
    },
    {
      "cell_type": "markdown",
      "metadata": {
        "id": "bmxdNYL6JY2r"
      },
      "source": [
        "# Cosmological Redshift\n",
        "\n",
        "- Surface of the balloon is spacetime\n",
        "- Each dot is a galaxy\n",
        "- As the universe expands, the galaxies are spreading out\n",
        "- It appears as if the galaxies are moving away from each other\n"
      ]
    },
    {
      "cell_type": "markdown",
      "metadata": {
        "id": "twcIOPjAKGJE"
      },
      "source": [
        "# Distances in Astronomy\n",
        "- The sun and moon look the same size though it is not true\n",
        "- Type 1A Supernovae : two stars merge together, huge amount of energy and light is released\n",
        "- Data available in SDSS-III.\n"
      ]
    },
    {
      "cell_type": "markdown",
      "metadata": {
        "id": "WgRNrT0qLLD8"
      },
      "source": [
        "# Hubble's Law\n",
        "\n",
        "v=Hd\n",
        "v=velocity\n",
        "d=distance\n",
        "H=Hubble's constant\n",
        "\n",
        "H=500Km/s\n",
        "---------\n",
        "Mpc\n",
        "\n",
        "Project Ideas: Hudsprung Ressle ,Xray Astronomy"
      ]
    },
    {
      "cell_type": "markdown",
      "metadata": {
        "id": "ymu3vJDNW8uB"
      },
      "source": [
        "# Age of the Universe\n",
        "\n",
        "- Constants\n",
        "  - quantity objects\n",
        "  - easily convert them to different convertible units"
      ]
    },
    {
      "cell_type": "code",
      "metadata": {
        "id": "HoNP_ddVXMfj"
      },
      "source": [
        "from astropy import constants as const"
      ],
      "execution_count": 1,
      "outputs": []
    },
    {
      "cell_type": "code",
      "metadata": {
        "colab": {
          "base_uri": "https://localhost:8080/"
        },
        "id": "h28tDHZsXYO8",
        "outputId": "bd371f5f-ffca-4790-b80d-c09bcdeea450"
      },
      "source": [
        "print(const.c)"
      ],
      "execution_count": 2,
      "outputs": [
        {
          "output_type": "stream",
          "name": "stdout",
          "text": [
            "  Name   = Speed of light in vacuum\n",
            "  Value  = 299792458.0\n",
            "  Uncertainty  = 0.0\n",
            "  Unit  = m / s\n",
            "  Reference = CODATA 2018\n"
          ]
        }
      ]
    },
    {
      "cell_type": "code",
      "metadata": {
        "colab": {
          "base_uri": "https://localhost:8080/"
        },
        "id": "ofvSVRKgXfNZ",
        "outputId": "a721da0a-28d3-4df1-c8f8-a939a9aa4bd1"
      },
      "source": [
        "print(const.c.to('km/s'))"
      ],
      "execution_count": 4,
      "outputs": [
        {
          "output_type": "stream",
          "name": "stdout",
          "text": [
            "299792.458 km / s\n"
          ]
        }
      ]
    },
    {
      "cell_type": "markdown",
      "metadata": {
        "id": "m7IkWWU3XubT"
      },
      "source": [
        "# Units"
      ]
    },
    {
      "cell_type": "code",
      "metadata": {
        "id": "RzVZ2YdhXoXW"
      },
      "source": [
        "from astropy import units as u"
      ],
      "execution_count": 6,
      "outputs": []
    },
    {
      "cell_type": "code",
      "metadata": {
        "colab": {
          "base_uri": "https://localhost:8080/",
          "height": 38
        },
        "id": "msgW2pyUX245",
        "outputId": "fbdf9041-2ee5-49b7-f90a-46393dc4e7fa"
      },
      "source": [
        "(35.0*u.meter).to('cm')"
      ],
      "execution_count": 7,
      "outputs": [
        {
          "output_type": "execute_result",
          "data": {
            "text/latex": "$3500 \\; \\mathrm{cm}$",
            "text/plain": [
              "<Quantity 3500. cm>"
            ]
          },
          "metadata": {},
          "execution_count": 7
        }
      ]
    },
    {
      "cell_type": "code",
      "metadata": {
        "id": "TaSz7D6oX-O2"
      },
      "source": [
        "import numpy as np"
      ],
      "execution_count": 8,
      "outputs": []
    },
    {
      "cell_type": "code",
      "metadata": {
        "colab": {
          "base_uri": "https://localhost:8080/",
          "height": 38
        },
        "id": "CIYlkdv2YA9f",
        "outputId": "460bb082-4530-4901-f7d0-c25c039029ea"
      },
      "source": [
        "np.array([1,2,3])*u.centimeter"
      ],
      "execution_count": 9,
      "outputs": [
        {
          "output_type": "execute_result",
          "data": {
            "text/latex": "$[1,~2,~3] \\; \\mathrm{cm}$",
            "text/plain": [
              "<Quantity [1., 2., 3.] cm>"
            ]
          },
          "metadata": {},
          "execution_count": 9
        }
      ]
    },
    {
      "cell_type": "markdown",
      "metadata": {
        "id": "_C4XvI-SYJC4"
      },
      "source": [
        "# Calculating Hubble Constant"
      ]
    },
    {
      "cell_type": "code",
      "metadata": {
        "id": "6H6DVnGWYIgo"
      },
      "source": [
        "import numpy as np\n",
        "from astropy import units as u\n",
        "from astropy import constants as const\n",
        "import matplotlib.pyplot as plt\n",
        "plt.rc('font',family='serif')\n",
        "plt.rc('xtick',labelsize=14)\n",
        "plt.rc('ytick',labelsize=14)\n",
        "%matplotlib inline"
      ],
      "execution_count": 12,
      "outputs": []
    },
    {
      "cell_type": "code",
      "metadata": {
        "id": "9pkZFz5QaB_I"
      },
      "source": [
        "data=np.genfromtxt('supernovaDistanceRedshift.csv',delimiter=',',dtype='float',skip_header=1)"
      ],
      "execution_count": null,
      "outputs": []
    },
    {
      "cell_type": "code",
      "metadata": {
        "id": "Yz1QlQ_bbTnp"
      },
      "source": [
        ""
      ],
      "execution_count": null,
      "outputs": []
    }
  ]
}