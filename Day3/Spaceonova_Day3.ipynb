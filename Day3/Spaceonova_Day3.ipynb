{
  "nbformat": 4,
  "nbformat_minor": 0,
  "metadata": {
    "colab": {
      "name": "Spaceonova Day3.ipynb",
      "provenance": [],
      "authorship_tag": "ABX9TyMoRJ3a7NH+enL63ZxVYXH2",
      "include_colab_link": true
    },
    "kernelspec": {
      "name": "python3",
      "display_name": "Python 3"
    },
    "language_info": {
      "name": "python"
    }
  },
  "cells": [
    {
      "cell_type": "markdown",
      "metadata": {
        "id": "view-in-github",
        "colab_type": "text"
      },
      "source": [
        "<a href=\"https://colab.research.google.com/github/shreya024/Spaceonova-Applications-of-Programming/blob/main/Day3/Spaceonova_Day3.ipynb\" target=\"_parent\"><img src=\"https://colab.research.google.com/assets/colab-badge.svg\" alt=\"Open In Colab\"/></a>"
      ]
    },
    {
      "cell_type": "markdown",
      "metadata": {
        "id": "gGxpMNpXmPeM"
      },
      "source": [
        "# Loops\n",
        "\n",
        "- for loop\n",
        "  - for variablename in groupofvariables :"
      ]
    },
    {
      "cell_type": "code",
      "metadata": {
        "colab": {
          "base_uri": "https://localhost:8080/"
        },
        "id": "TB89h7hioCkx",
        "outputId": "d8beed70-6c91-40f1-b65a-184f3319d83d"
      },
      "source": [
        "for x in range(1,6):\n",
        "  print(x)"
      ],
      "execution_count": null,
      "outputs": [
        {
          "output_type": "stream",
          "name": "stdout",
          "text": [
            "1\n",
            "2\n",
            "3\n",
            "4\n",
            "5\n"
          ]
        }
      ]
    },
    {
      "cell_type": "code",
      "metadata": {
        "colab": {
          "base_uri": "https://localhost:8080/"
        },
        "id": "4FvNI-0souVx",
        "outputId": "2afdd38d-3c99-421f-c427-8150114d6509"
      },
      "source": [
        "list1=[1,2,3,4,5,6,7,8,9,10]\n",
        "for num in list1:\n",
        "  print(num)"
      ],
      "execution_count": null,
      "outputs": [
        {
          "output_type": "stream",
          "name": "stdout",
          "text": [
            "1\n",
            "2\n",
            "3\n",
            "4\n",
            "5\n",
            "6\n",
            "7\n",
            "8\n",
            "9\n",
            "10\n"
          ]
        }
      ]
    },
    {
      "cell_type": "code",
      "metadata": {
        "colab": {
          "base_uri": "https://localhost:8080/"
        },
        "id": "n6dWGLVko6H4",
        "outputId": "087ccfc5-5244-42ba-f272-f3b0d609fabd"
      },
      "source": [
        "list(range(10,20,2))"
      ],
      "execution_count": null,
      "outputs": [
        {
          "output_type": "execute_result",
          "data": {
            "text/plain": [
              "[10, 12, 14, 16, 18]"
            ]
          },
          "metadata": {},
          "execution_count": 4
        }
      ]
    },
    {
      "cell_type": "code",
      "metadata": {
        "colab": {
          "base_uri": "https://localhost:8080/"
        },
        "id": "msq2sJwJpaJi",
        "outputId": "62544fa4-f6bf-4d32-f9a5-85aabf66ad28"
      },
      "source": [
        "list_sum=0\n",
        "for num in list1:\n",
        "  list_sum+=num\n",
        "print(list_sum)"
      ],
      "execution_count": null,
      "outputs": [
        {
          "output_type": "stream",
          "name": "stdout",
          "text": [
            "55\n"
          ]
        }
      ]
    },
    {
      "cell_type": "code",
      "metadata": {
        "colab": {
          "base_uri": "https://localhost:8080/"
        },
        "id": "U4UaRRCAqdRw",
        "outputId": "c5e24270-1b2d-47de-dfe4-63418eeda2e4"
      },
      "source": [
        "for letter in \"I am an alien!!!\":\n",
        "  print(letter)"
      ],
      "execution_count": null,
      "outputs": [
        {
          "output_type": "stream",
          "name": "stdout",
          "text": [
            "I\n",
            " \n",
            "a\n",
            "m\n",
            " \n",
            "a\n",
            "n\n",
            " \n",
            "a\n",
            "l\n",
            "i\n",
            "e\n",
            "n\n",
            "!\n",
            "!\n",
            "!\n"
          ]
        }
      ]
    },
    {
      "cell_type": "code",
      "metadata": {
        "colab": {
          "base_uri": "https://localhost:8080/"
        },
        "id": "yiTfJh-6qkhY",
        "outputId": "ae1371c1-bc2e-406e-d4db-40a7c9db7c7c"
      },
      "source": [
        "d={'k':'v',\"k1\":\"v1\"}\n",
        "\n",
        "for k,v in d.items():\n",
        "  print(k,v)"
      ],
      "execution_count": null,
      "outputs": [
        {
          "output_type": "stream",
          "name": "stdout",
          "text": [
            "k v\n",
            "k1 v1\n"
          ]
        }
      ]
    },
    {
      "cell_type": "code",
      "metadata": {
        "colab": {
          "base_uri": "https://localhost:8080/"
        },
        "id": "VQgQqSyArG7R",
        "outputId": "06c44c83-edd9-4560-f96d-d383008facba"
      },
      "source": [
        "for i in range(51,101):\n",
        "  if(i%2==0):\n",
        "    print(i)"
      ],
      "execution_count": null,
      "outputs": [
        {
          "output_type": "stream",
          "name": "stdout",
          "text": [
            "52\n",
            "54\n",
            "56\n",
            "58\n",
            "60\n",
            "62\n",
            "64\n",
            "66\n",
            "68\n",
            "70\n",
            "72\n",
            "74\n",
            "76\n",
            "78\n",
            "80\n",
            "82\n",
            "84\n",
            "86\n",
            "88\n",
            "90\n",
            "92\n",
            "94\n",
            "96\n",
            "98\n",
            "100\n"
          ]
        }
      ]
    },
    {
      "cell_type": "markdown",
      "metadata": {
        "id": "2NIIScBdtkFx"
      },
      "source": [
        "# Break/Continue\n",
        "\n",
        "- Break: takes you out of the loop\n",
        "- Continue: Moves on to the next iteration by ignoring the current one\n",
        "- Pass: null operation,nothing happens when it is executed"
      ]
    },
    {
      "cell_type": "markdown",
      "metadata": {
        "id": "m0Q0BuZ6vGGk"
      },
      "source": [
        "# Email\n",
        "\n",
        "- SMTP: Simple Mail Transfer Protocol\n",
        "  - server: SMTP.GMAIL.COM\n",
        "  - PORT:465"
      ]
    },
    {
      "cell_type": "code",
      "metadata": {
        "id": "92cbrSRmwroa"
      },
      "source": [
        "import smtplib\n",
        "\n",
        "smtp_server=\"smtp.gmail.com\"\n",
        "port=465\n",
        "server=smtplib.SMTP_SSL(smtp_server,port)"
      ],
      "execution_count": null,
      "outputs": []
    },
    {
      "cell_type": "markdown",
      "metadata": {
        "id": "8qgBBRNjytTZ"
      },
      "source": [
        "# Numpy\n",
        "\n",
        "- import numpy as np\n",
        "- np.array(l)*2"
      ]
    },
    {
      "cell_type": "code",
      "metadata": {
        "colab": {
          "base_uri": "https://localhost:8080/"
        },
        "id": "1zHOyBHxy431",
        "outputId": "da3692d1-f571-44c6-dea9-8fcbcb9d5632"
      },
      "source": [
        "import numpy as np\n",
        "l=[1,2,3]\n",
        "np.array(l)*2"
      ],
      "execution_count": null,
      "outputs": [
        {
          "output_type": "execute_result",
          "data": {
            "text/plain": [
              "array([2, 4, 6])"
            ]
          },
          "metadata": {},
          "execution_count": 13
        }
      ]
    },
    {
      "cell_type": "code",
      "metadata": {
        "id": "uCf1XJFazOWq"
      },
      "source": [
        "import astropy "
      ],
      "execution_count": null,
      "outputs": []
    }
  ]
}