{
  "nbformat": 4,
  "nbformat_minor": 0,
  "metadata": {
    "kernelspec": {
      "display_name": "Python 3",
      "language": "python",
      "name": "python3"
    },
    "language_info": {
      "codemirror_mode": {
        "name": "ipython",
        "version": 3
      },
      "file_extension": ".py",
      "mimetype": "text/x-python",
      "name": "python",
      "nbconvert_exporter": "python",
      "pygments_lexer": "ipython3",
      "version": "3.8.5"
    },
    "colab": {
      "name": "SV-603.ipynb",
      "provenance": [],
      "include_colab_link": true
    }
  },
  "cells": [
    {
      "cell_type": "markdown",
      "metadata": {
        "id": "view-in-github",
        "colab_type": "text"
      },
      "source": [
        "<a href=\"https://colab.research.google.com/github/shreya024/Spaceonova-Applications-of-Programming/blob/main/Day3/SV_603.ipynb\" target=\"_parent\"><img src=\"https://colab.research.google.com/assets/colab-badge.svg\" alt=\"Open In Colab\"/></a>"
      ]
    },
    {
      "cell_type": "markdown",
      "metadata": {
        "id": "JlZLc7Sy3rz9"
      },
      "source": [
        "Before you turn this problem in, make sure everything runs as expected without errors. First, **restart the kernel** (in the menubar, select Kernel$\\rightarrow$Restart) and then **run all cells** (in the menubar, select Cell$\\rightarrow$Run All).\n",
        "\n",
        "Make sure you fill in any place that says `YOUR CODE HERE` or \"YOUR ANSWER HERE\", as well as your name below:"
      ]
    },
    {
      "cell_type": "code",
      "metadata": {
        "id": "WbYtEZyy3r0C"
      },
      "source": [
        "NAME = \"SHREYA GHOSH\""
      ],
      "execution_count": null,
      "outputs": []
    },
    {
      "cell_type": "markdown",
      "metadata": {
        "id": "uRBFcODV3r0E"
      },
      "source": [
        "---"
      ]
    },
    {
      "cell_type": "markdown",
      "metadata": {
        "id": "2tb-ZJ7E3r0F"
      },
      "source": [
        "Note:\n",
        "1. Remember to use the variables given inside the function definition and make sure the cell having a few test cases pass without errors.\n",
        "2. Your function willl be tested upon multiple test cases after you submit."
      ]
    },
    {
      "cell_type": "markdown",
      "metadata": {
        "id": "zvNQTwoA3r0F"
      },
      "source": [
        "---"
      ]
    },
    {
      "cell_type": "markdown",
      "metadata": {
        "id": "-cxecDOK3r0G"
      },
      "source": [
        "# Assignment - 3"
      ]
    },
    {
      "cell_type": "markdown",
      "metadata": {
        "id": "Qven3zG63r0G"
      },
      "source": [
        "## Q1\n",
        "Given a number *n* as am argument, and a function ```f1()```, you must complete the function to `return` a list from [1,n]"
      ]
    },
    {
      "cell_type": "code",
      "metadata": {
        "deletable": false,
        "nbgrader": {
          "cell_type": "code",
          "checksum": "3865700140ff27b6f0ba9aff0817a2ce",
          "grade": false,
          "grade_id": "cell-79e46c47e5b2188c",
          "locked": false,
          "schema_version": 3,
          "solution": true,
          "task": false
        },
        "id": "G4EGx53r3r0G"
      },
      "source": [
        "def f1(n):\n",
        "    list1=[]\n",
        "    for i in range(1,n+1):\n",
        "      list1.append(i)\n",
        "    return list1"
      ],
      "execution_count": null,
      "outputs": []
    },
    {
      "cell_type": "code",
      "metadata": {
        "deletable": false,
        "editable": false,
        "nbgrader": {
          "cell_type": "code",
          "checksum": "c0bd71ab41ea238e64e2721f307b0b0e",
          "grade": true,
          "grade_id": "cell-bae5cb11582300b5",
          "locked": true,
          "points": 1,
          "schema_version": 3,
          "solution": false,
          "task": false
        },
        "id": "6yZ4VYQC3r0H"
      },
      "source": [
        "#Tests Must pass without errors\n",
        "assert f1(2)==[1,2]\n",
        "assert f1(3)==[1,2,3]\n",
        "assert f1(29)==[1, 2, 3, 4, 5, 6, 7, 8, 9, 10, 11, 12, 13, 14, 15, 16, 17, 18, 19, 20, 21, 22, 23, 24, 25, 26, 27, 28, 29]"
      ],
      "execution_count": null,
      "outputs": []
    },
    {
      "cell_type": "markdown",
      "metadata": {
        "id": "MyjgOsiq3r0I"
      },
      "source": [
        "## Q2\n",
        "Write a function f2(), which checks whether a number n is prime or not, it must return ```True``` if prime, else ```False``` if not a prime. <br>Note: 1 is considered to be Non-Prime"
      ]
    },
    {
      "cell_type": "code",
      "metadata": {
        "deletable": false,
        "nbgrader": {
          "cell_type": "code",
          "checksum": "007ec102c160c1a04cc5fe05415bc24d",
          "grade": false,
          "grade_id": "cell-ca9b89aea2aa61e4",
          "locked": false,
          "schema_version": 3,
          "solution": true,
          "task": false
        },
        "id": "f4JZkYpq3r0J"
      },
      "source": [
        "def f2(n):\n",
        "    if(n==1):\n",
        "      return False\n",
        "    flag=False\n",
        "    if(n>1):\n",
        "      for i in range (2,n):\n",
        "        if(n%i)==0:\n",
        "          flag=True\n",
        "          break\n",
        "      if flag:\n",
        "        return False\n",
        "      else:\n",
        "        return True"
      ],
      "execution_count": null,
      "outputs": []
    },
    {
      "cell_type": "code",
      "metadata": {
        "deletable": false,
        "editable": false,
        "nbgrader": {
          "cell_type": "code",
          "checksum": "382cd90b1e729c3e083354b2b57115d3",
          "grade": true,
          "grade_id": "cell-8be708f513e3b3b6",
          "locked": true,
          "points": 1,
          "schema_version": 3,
          "solution": false,
          "task": false
        },
        "id": "3Eo_Svcn3r0K"
      },
      "source": [
        "#Tests Must pass without errors\n",
        "assert f2(1)==False\n",
        "assert f2(2)==True\n",
        "assert f2(4)==False\n",
        "assert f2(3)==True\n",
        "assert f2(9)==False"
      ],
      "execution_count": null,
      "outputs": []
    },
    {
      "cell_type": "markdown",
      "metadata": {
        "id": "oE8GX4pL3r0L"
      },
      "source": [
        "## Q3\n",
        "HackTheBox never gets tired of encoding and decoding strings, here is another question, this one is a little straight forward <br><br> *The string was splitted into a list such that every char was an element in list, then some random chars were added in the beginning and in the end such that the original character stayed in the middle* <br><br>\n",
        "You are given a function *f3*() and the list *l*, `return` the original string\n",
        "\n",
        "<br><code>Ex1: if the list is ['abc','pkonh','aqwetmkoi'], then the middle char of each element is 'b','o','t' repectively hence the original string is \"bot\"</code>"
      ]
    },
    {
      "cell_type": "code",
      "metadata": {
        "deletable": false,
        "nbgrader": {
          "cell_type": "code",
          "checksum": "d24ac32f1f484716d3bf2ff0ebc3ace6",
          "grade": false,
          "grade_id": "cell-3f1cbabcb6b57f91",
          "locked": false,
          "schema_version": 3,
          "solution": true,
          "task": false
        },
        "id": "2h5tvyfl3r0L"
      },
      "source": [
        "def f3(l):\n",
        "    s=\"\"\n",
        "    for list_item in l:\n",
        "      length=len(list_item)\n",
        "      s+=list_item[int(length/2)]\n",
        "    return s\n"
      ],
      "execution_count": null,
      "outputs": []
    },
    {
      "cell_type": "code",
      "metadata": {
        "deletable": false,
        "editable": false,
        "nbgrader": {
          "cell_type": "code",
          "checksum": "9378a5341b534601221a18f432e1e912",
          "grade": true,
          "grade_id": "cell-4d567416c35c142f",
          "locked": true,
          "points": 1,
          "schema_version": 3,
          "solution": false,
          "task": false
        },
        "id": "qfSfSyUQ3r0M"
      },
      "source": [
        "#Tests Must pass without errors\n",
        "assert f3(['abc','pkonh','aqwetmkoi'])==\"bot\"\n",
        "assert f3(['abc','pkonh','aqweomkoi','k'])==\"book\""
      ],
      "execution_count": null,
      "outputs": []
    },
    {
      "cell_type": "markdown",
      "metadata": {
        "id": "QpNsmjox3r0M"
      },
      "source": [
        "## Q4\n",
        "This is an interesting question, you are given a string `s` all in lower case<br>\n",
        "Make a dictionary storing the frequency of each letter in the string<br>\n",
        "Complete `f4()` and **return** the dictionary<br>\n",
        "*Eg:*<br>\n",
        "*If s=\"abc\",<br>\n",
        "d={'a':1,'b':1,'c':1}*\n",
        "<br>And so on"
      ]
    },
    {
      "cell_type": "code",
      "metadata": {
        "deletable": false,
        "nbgrader": {
          "cell_type": "code",
          "checksum": "329c6b4bb80c883f7e11322b06942f56",
          "grade": false,
          "grade_id": "cell-377be662532f4d74",
          "locked": false,
          "schema_version": 3,
          "solution": true,
          "task": false
        },
        "id": "C5zIkq1D3r0N"
      },
      "source": [
        "def f4(s):\n",
        "    d={}\n",
        "    for letter in s:\n",
        "      if letter in d:\n",
        "        d[letter]+=1\n",
        "      else:\n",
        "        d[letter]=1\n",
        "    return d"
      ],
      "execution_count": null,
      "outputs": []
    },
    {
      "cell_type": "code",
      "metadata": {
        "deletable": false,
        "editable": false,
        "nbgrader": {
          "cell_type": "code",
          "checksum": "e4adb6b4bd3d8e308bd75e596c924021",
          "grade": true,
          "grade_id": "cell-8afc6cd2856004c8",
          "locked": true,
          "points": 1,
          "schema_version": 3,
          "solution": false,
          "task": false
        },
        "id": "YAF-Fxxd3r0O"
      },
      "source": [
        "#Tests Must pass without errors\n",
        "assert f4('abc')=={'a': 1, 'b': 1, 'c': 1}\n",
        "assert f4('aabcbcd')=={'a': 2, 'b': 2, 'c': 2,'d':1}"
      ],
      "execution_count": null,
      "outputs": []
    },
    {
      "cell_type": "markdown",
      "metadata": {
        "id": "iPYfqQqd3r0O"
      },
      "source": [
        "## Q5\n",
        "HackTheBox can not get enough of strings. They took a string s and did this and gave you `encoded`\n",
        "```\n",
        "l=list(s)\n",
        "for i in range(len(l)):\n",
        "    l[i]=chr(ord(l[i])+i)\n",
        "encoded=\"\".join(l)\n",
        "```\n",
        "<br>Can you **return** the original string through `f5(encoded)`?<br>\n",
        "Read about ord() <a href=\"https://docs.python.org/3.4/library/functions.html?highlight=ord#ord\">From here</a><br>\n",
        "Read about chr() <a href=\"https://docs.python.org/3.4/library/functions.html?highlight=ord#chr\">From here</a>"
      ]
    },
    {
      "cell_type": "code",
      "metadata": {
        "deletable": false,
        "nbgrader": {
          "cell_type": "code",
          "checksum": "64911dcb4a1d7ef67a10b73c2b29ca3e",
          "grade": false,
          "grade_id": "cell-e26603fb7da8a07c",
          "locked": false,
          "schema_version": 3,
          "solution": true,
          "task": false
        },
        "id": "TdbtO2V43r0P"
      },
      "source": [
        "def f5(encoded):\n",
        "    l=list(encoded)\n",
        "    for i in range(len(l)):\n",
        "        l[i]=chr(ord(l[i])-i)\n",
        "    answer=\"\".join(l)\n",
        "    return answer"
      ],
      "execution_count": null,
      "outputs": []
    },
    {
      "cell_type": "code",
      "metadata": {
        "deletable": false,
        "editable": false,
        "nbgrader": {
          "cell_type": "code",
          "checksum": "e688db1d82f39e8f624e57b9c7b9942b",
          "grade": true,
          "grade_id": "cell-c207ec1322822ccb",
          "locked": true,
          "points": 1,
          "schema_version": 3,
          "solution": false,
          "task": false
        },
        "id": "X_tQhXc23r0Q"
      },
      "source": [
        "# Tests Must pass without errors\n",
        "assert f5(\"def\")==\"ddd\"   \n",
        "assert f5(\"sqcfittv~j\")==\"spaceonova\"\n",
        "assert f5(\"Pzvkss\")==\"Python\""
      ],
      "execution_count": null,
      "outputs": []
    },
    {
      "cell_type": "markdown",
      "metadata": {
        "id": "oabYYmZT3r0R"
      },
      "source": [
        "## Q6\n",
        "\n",
        "Your mortal enemy has hidden his password in a random string. You have the original string named `original` and the string with his password as `original_with_password`, can you find it?\n",
        "\n",
        "Your enemy also confirmed that his password is there in `original_with_password` but not together.\n",
        "\n",
        "Store the password of your mortal enemy in the variable **ans6**.\n",
        "<div style=\"text-align: right\">-- 2 points </div>"
      ]
    },
    {
      "cell_type": "code",
      "metadata": {
        "deletable": false,
        "nbgrader": {
          "cell_type": "code",
          "checksum": "57dae3d9c4d5a8b56937ebb3db3163cd",
          "grade": false,
          "grade_id": "cell-182401c57ea8fd68",
          "locked": false,
          "schema_version": 3,
          "solution": true,
          "task": false
        },
        "colab": {
          "base_uri": "https://localhost:8080/"
        },
        "id": "yDJWnKsk3r0R",
        "outputId": "3958f977-ffc7-47e3-d8dd-e2053fdb7b48"
      },
      "source": [
        "original=\"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\"\n",
        "original_with_password=\"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!47sjFFJPgX5wxvVDH69nqPnmqT7TdcI4I9c5s5nQ8KdHaOCxBE7FtKN44UYJO35Z645CefPCTUyTOI\"\n",
        "ans6=\"\"\n",
        "count=0\n",
        "\n",
        "for i in range(0,len(original)):\n",
        "  if(original[i]!=original_with_password[i+count]):\n",
        "    count+=1\n",
        "    ans6+=original_with_password[i]\n",
        "\n",
        "print(ans6)"
      ],
      "execution_count": 1,
      "outputs": [
        {
          "output_type": "stream",
          "name": "stdout",
          "text": [
            "5NpA2UHSvzk\n"
          ]
        }
      ]
    },
    {
      "cell_type": "code",
      "metadata": {
        "deletable": false,
        "editable": false,
        "nbgrader": {
          "cell_type": "code",
          "checksum": "92edac91563d50f142b80ce414d01f75",
          "grade": true,
          "grade_id": "cell-81d4402d5620a60d",
          "locked": true,
          "points": 2,
          "schema_version": 3,
          "solution": false,
          "task": false
        },
        "id": "lT0eIBAz3r0X"
      },
      "source": [
        ""
      ],
      "execution_count": null,
      "outputs": []
    },
    {
      "cell_type": "code",
      "metadata": {
        "id": "L0yb4krB3r0X"
      },
      "source": [
        ""
      ],
      "execution_count": null,
      "outputs": []
    }
  ]
}