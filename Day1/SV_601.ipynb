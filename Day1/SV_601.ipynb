{
  "nbformat": 4,
  "nbformat_minor": 0,
  "metadata": {
    "kernelspec": {
      "display_name": "Python 3",
      "language": "python",
      "name": "python3"
    },
    "language_info": {
      "codemirror_mode": {
        "name": "ipython",
        "version": 3
      },
      "file_extension": ".py",
      "mimetype": "text/x-python",
      "name": "python",
      "nbconvert_exporter": "python",
      "pygments_lexer": "ipython3",
      "version": "3.8.5"
    },
    "colab": {
      "name": "SV-601.ipynb",
      "provenance": [],
      "collapsed_sections": [],
      "include_colab_link": true
    }
  },
  "cells": [
    {
      "cell_type": "markdown",
      "metadata": {
        "id": "view-in-github",
        "colab_type": "text"
      },
      "source": [
        "<a href=\"https://colab.research.google.com/github/shreya024/Spaceonova-Applications-of-Programming/blob/main/Day1/SV_601.ipynb\" target=\"_parent\"><img src=\"https://colab.research.google.com/assets/colab-badge.svg\" alt=\"Open In Colab\"/></a>"
      ]
    },
    {
      "cell_type": "markdown",
      "metadata": {
        "id": "KiRLyQfeiAbG"
      },
      "source": [
        "Before you turn this problem in, make sure everything runs as expected without errors. First, **restart the kernel** (in the menubar, select Kernel$\\rightarrow$Restart) and then **run all cells** (in the menubar, select Cell$\\rightarrow$Run All).\n",
        "\n",
        "Make sure you fill in any place that says `YOUR CODE HERE` or \"YOUR ANSWER HERE\", as well as your name below:"
      ]
    },
    {
      "cell_type": "code",
      "metadata": {
        "id": "dOvphRwyiAbS"
      },
      "source": [
        "NAME = \"SHREYA GHOSH\""
      ],
      "execution_count": null,
      "outputs": []
    },
    {
      "cell_type": "markdown",
      "metadata": {
        "id": "78AWO3lmiAbe"
      },
      "source": [
        "---"
      ]
    },
    {
      "cell_type": "markdown",
      "metadata": {
        "id": "UIO5ixNXiAbg"
      },
      "source": [
        "# Assignment 1"
      ]
    },
    {
      "cell_type": "markdown",
      "metadata": {
        "id": "my8R986MiAbh"
      },
      "source": [
        "1. Find out the 5th root of 894734686126368 and store in **ans1**"
      ]
    },
    {
      "cell_type": "code",
      "metadata": {
        "deletable": false,
        "nbgrader": {
          "cell_type": "code",
          "checksum": "4c3a5f1f1678a91767b77ed6f50a88d5",
          "grade": false,
          "grade_id": "cell-6212ae9ce5e0e54e",
          "locked": false,
          "schema_version": 3,
          "solution": true,
          "task": false
        },
        "colab": {
          "base_uri": "https://localhost:8080/"
        },
        "id": "zxAWwwOXiAbi",
        "outputId": "bb505e56-55bc-442f-860a-4df51ef071ef"
      },
      "source": [
        "ans1=894734686126368**(1/5)\n",
        "print(ans1)"
      ],
      "execution_count": null,
      "outputs": [
        {
          "output_type": "stream",
          "name": "stdout",
          "text": [
            "978.0000000000003\n"
          ]
        }
      ]
    },
    {
      "cell_type": "markdown",
      "metadata": {
        "id": "v5AQx9PTiAbk"
      },
      "source": [
        "2. Find out the **6th letter** of **s** from starting and **6th letter from end** and store in **ans2** and **ans3** respectively"
      ]
    },
    {
      "cell_type": "code",
      "metadata": {
        "deletable": false,
        "nbgrader": {
          "cell_type": "code",
          "checksum": "85635eeaf495146f480a139de43c1617",
          "grade": false,
          "grade_id": "cell-6223cf42d99b1ab1",
          "locked": false,
          "schema_version": 3,
          "solution": true,
          "task": false
        },
        "colab": {
          "base_uri": "https://localhost:8080/"
        },
        "id": "mAqkjJyniAbm",
        "outputId": "421c735b-90f8-4960-fe74-7a8a78db0c82"
      },
      "source": [
        "s = \"Spaceonova where limit tends to infinity\"\n",
        "ans2=s[5]\n",
        "ans3=s[-6]\n",
        "print(ans2,ans3)"
      ],
      "execution_count": null,
      "outputs": [
        {
          "output_type": "stream",
          "name": "stdout",
          "text": [
            "o f\n"
          ]
        }
      ]
    },
    {
      "cell_type": "markdown",
      "metadata": {
        "id": "r7qQmKJGiAbo"
      },
      "source": [
        "3. HackTheBox Foundation came up with an interesting thing, You are given a string *encoded* and it is coded as follows:\n",
        "\n",
        "    *An original string ans4 was taken and every character in 'ans4' is suffixed (added in end) 'c' number of random chars and stored in a variable 'encoded'* <br><br>\n",
        "    **Find ans4**<br><br>\n",
        "    *For example*<br>\n",
        "    *Let ans4=\"abc\" and let c=2 and let us denote a random character by x, then*<br>\n",
        "    *encoded becomes \"axxbxxcxx\"*<br>\n",
        "    Note 'c' is a constant number and a space can also be considered as a random character. \n",
        "    <div style=\"text-align: right\">-- 2 points </div>"
      ]
    },
    {
      "cell_type": "code",
      "metadata": {
        "deletable": false,
        "nbgrader": {
          "cell_type": "code",
          "checksum": "fca17b385bbe798636fb86c310483be1",
          "grade": false,
          "grade_id": "cell-6e419efbbb1684e5",
          "locked": false,
          "schema_version": 3,
          "solution": true,
          "task": false
        },
        "id": "BveXTcIBiAbq",
        "colab": {
          "base_uri": "https://localhost:8080/"
        },
        "outputId": "bbaa0612-5e98-4577-f428-52c042330181"
      },
      "source": [
        "encoded='clbzwaolcnmonwy pbggrx rrpbyqmaxheo twhqxzsyitzf cjlxnyoqbpso urbtupvtcs cfhdodmkyjwim fuddkbhmr soufbiqvjhetgfume'\n",
        "ans4=encoded[::6]\n",
        "print(ans4)\n"
      ],
      "execution_count": null,
      "outputs": [
        {
          "output_type": "stream",
          "name": "stdout",
          "text": [
            "congrats you did it\n"
          ]
        }
      ]
    },
    {
      "cell_type": "markdown",
      "metadata": {
        "id": "Agr9M35ZiAbr"
      },
      "source": [
        "4. You are given two lists x and y. Sort x in ascending order and sort y in descending order. Then store the concatenation in **ans5**"
      ]
    },
    {
      "cell_type": "code",
      "metadata": {
        "deletable": false,
        "nbgrader": {
          "cell_type": "code",
          "checksum": "17287875be07b980492865fbce2251fb",
          "grade": false,
          "grade_id": "cell-f1e9b8497339c1b5",
          "locked": false,
          "schema_version": 3,
          "solution": true,
          "task": false
        },
        "colab": {
          "base_uri": "https://localhost:8080/"
        },
        "id": "Mom1gergiAbr",
        "outputId": "c89a10b2-0820-4fc0-8f08-988c52585a01"
      },
      "source": [
        "x=[3,5,1,9,7,4]\n",
        "y=['limit','tends','to','infinity']\n",
        "x.sort()\n",
        "y.sort(reverse=True)\n",
        "ans5= x + y\n",
        "print(str(ans5))"
      ],
      "execution_count": null,
      "outputs": [
        {
          "output_type": "stream",
          "name": "stdout",
          "text": [
            "[1, 3, 4, 5, 7, 9, 'to', 'tends', 'limit', 'infinity']\n"
          ]
        }
      ]
    },
    {
      "cell_type": "markdown",
      "metadata": {
        "id": "-uFjhzaniAbs"
      },
      "source": [
        "5. You are given a list p.<br>\n",
        "    Change 3<sup>rd</sup> element in p to <code>rock</code>.<br>\n",
        "    Add <code>boss</code> in the end of list.<br>\n",
        "    Add another element <code>don't</code> after <code>you</code><br>\n",
        "    And store the result in **ans6** as a string by adding `'#'` between every element"
      ]
    },
    {
      "cell_type": "code",
      "metadata": {
        "deletable": false,
        "nbgrader": {
          "cell_type": "code",
          "checksum": "e7fe34ffb5c76a12889e8b4c33fad28d",
          "grade": false,
          "grade_id": "cell-96c6922f6da28bcf",
          "locked": false,
          "schema_version": 3,
          "solution": true,
          "task": false
        },
        "colab": {
          "base_uri": "https://localhost:8080/"
        },
        "id": "JCNHHFeiiAbu",
        "outputId": "5c0c4dc7-ecfb-44ea-ddc4-de49d3dc7e87"
      },
      "source": [
        "\n",
        "p=['you','definitely','too','inside','of me']\n",
        "p[2]=\"rock\"\n",
        "p=p+[\"boss\"]\n",
        "p.insert(1,\"don't\")\n",
        "ans6='#'.join(p)\n",
        "print(ans6)"
      ],
      "execution_count": null,
      "outputs": [
        {
          "output_type": "stream",
          "name": "stdout",
          "text": [
            "you#don't#definitely#rock#inside#of me#boss\n"
          ]
        }
      ]
    },
    {
      "cell_type": "markdown",
      "metadata": {
        "id": "_sUfPLW-iAbv"
      },
      "source": [
        "---"
      ]
    },
    {
      "cell_type": "code",
      "metadata": {
        "deletable": false,
        "editable": false,
        "nbgrader": {
          "cell_type": "code",
          "checksum": "c015b155d155435371b172c35b167428",
          "grade": true,
          "grade_id": "cell-3f8f80bb904c94b6",
          "locked": true,
          "points": 1,
          "schema_version": 3,
          "solution": false,
          "task": false
        },
        "id": "SFwidh2siAbw"
      },
      "source": [
        ""
      ],
      "execution_count": null,
      "outputs": []
    },
    {
      "cell_type": "code",
      "metadata": {
        "deletable": false,
        "editable": false,
        "nbgrader": {
          "cell_type": "code",
          "checksum": "18176327651f43d77993cebd4744fc8e",
          "grade": true,
          "grade_id": "cell-6d6b7e14525e7a61",
          "locked": true,
          "points": 1,
          "schema_version": 3,
          "solution": false,
          "task": false
        },
        "id": "1Rlj-UiEiAbw"
      },
      "source": [
        ""
      ],
      "execution_count": null,
      "outputs": []
    },
    {
      "cell_type": "code",
      "metadata": {
        "deletable": false,
        "editable": false,
        "nbgrader": {
          "cell_type": "code",
          "checksum": "d5928b791e593cde0c765868c989f1db",
          "grade": true,
          "grade_id": "cell-972435b8f15a415c",
          "locked": true,
          "points": 2,
          "schema_version": 3,
          "solution": false,
          "task": false
        },
        "id": "fcYtTH5giAbx"
      },
      "source": [
        ""
      ],
      "execution_count": null,
      "outputs": []
    },
    {
      "cell_type": "code",
      "metadata": {
        "deletable": false,
        "editable": false,
        "nbgrader": {
          "cell_type": "code",
          "checksum": "fea83487a10155f61450907a71b95443",
          "grade": true,
          "grade_id": "cell-021754bffdfe0927",
          "locked": true,
          "points": 1,
          "schema_version": 3,
          "solution": false,
          "task": false
        },
        "id": "dOWD5NHtiAbx"
      },
      "source": [
        ""
      ],
      "execution_count": null,
      "outputs": []
    },
    {
      "cell_type": "code",
      "metadata": {
        "deletable": false,
        "editable": false,
        "nbgrader": {
          "cell_type": "code",
          "checksum": "6f30cf0bab805c8df2d4dee9a82d37b5",
          "grade": true,
          "grade_id": "cell-af4ac3b0f05015b4",
          "locked": true,
          "points": 1,
          "schema_version": 3,
          "solution": false,
          "task": false
        },
        "id": "Ato66l24iAby"
      },
      "source": [
        ""
      ],
      "execution_count": null,
      "outputs": []
    }
  ]
}