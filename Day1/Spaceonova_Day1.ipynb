{
  "nbformat": 4,
  "nbformat_minor": 0,
  "metadata": {
    "colab": {
      "name": "Spaceonova Day1.ipynb",
      "provenance": [],
      "authorship_tag": "ABX9TyO8p4HCaLcA95EMdfdMYntd",
      "include_colab_link": true
    },
    "kernelspec": {
      "name": "python3",
      "display_name": "Python 3"
    },
    "language_info": {
      "name": "python"
    }
  },
  "cells": [
    {
      "cell_type": "markdown",
      "metadata": {
        "id": "view-in-github",
        "colab_type": "text"
      },
      "source": [
        "<a href=\"https://colab.research.google.com/github/shreya024/Spaceonova-Applications-of-Programming/blob/main/Day1/Spaceonova_Day1.ipynb\" target=\"_parent\"><img src=\"https://colab.research.google.com/assets/colab-badge.svg\" alt=\"Open In Colab\"/></a>"
      ]
    },
    {
      "cell_type": "markdown",
      "metadata": {
        "id": "l8DyS28mVInh"
      },
      "source": [
        "# Numbers\n",
        "- Integers\n",
        "- Float\n",
        "- Complex (that has i or j)\n",
        "\n",
        "# Arithmetic Operators\n",
        "- +\n",
        "- -\n",
        "- *\n",
        "- /\n",
        "- % (Modular Division - Remainder)\n",
        "- ** (Exponent)\n",
        "- // (Floor Division - Quotient)"
      ]
    },
    {
      "cell_type": "code",
      "metadata": {
        "colab": {
          "base_uri": "https://localhost:8080/"
        },
        "id": "Fw836Y_zWrHa",
        "outputId": "96d068c7-3006-4a26-c353-7e7a4dfd708b"
      },
      "source": [
        "print(3+5)\n",
        "print(7/4)\n",
        "print(7//4)\n",
        "print(7%4)\n",
        "print(169**0.5)"
      ],
      "execution_count": null,
      "outputs": [
        {
          "output_type": "stream",
          "name": "stdout",
          "text": [
            "8\n",
            "1.75\n",
            "1\n",
            "3\n",
            "13.0\n"
          ]
        }
      ]
    },
    {
      "cell_type": "markdown",
      "metadata": {
        "id": "Z2RAqK4NXtd1"
      },
      "source": [
        "# Variables\n",
        "- container to store data\n",
        "- x=10\n",
        "- Reassignment is allowed\n",
        "- Cannot start with number\n",
        "- Cannot have spaces\n",
        "- Can use underscores\n",
        "- Cannnot use special symbols\n",
        "\n",
        "## Best Practice\n",
        "- lowercase\n",
        "- do not use list like reserved keywords"
      ]
    },
    {
      "cell_type": "code",
      "metadata": {
        "colab": {
          "base_uri": "https://localhost:8080/"
        },
        "id": "7Hg6ydPdX8Ck",
        "outputId": "1cf66816-9dc1-44d3-d393-3723a6fdd610"
      },
      "source": [
        "x = 5\n",
        "y = 10\n",
        "z= x+y\n",
        "print(z)"
      ],
      "execution_count": null,
      "outputs": [
        {
          "output_type": "stream",
          "name": "stdout",
          "text": [
            "15\n"
          ]
        }
      ]
    },
    {
      "cell_type": "code",
      "metadata": {
        "colab": {
          "base_uri": "https://localhost:8080/"
        },
        "id": "l1PGckacY-C7",
        "outputId": "d38cf710-b94c-431b-dfc7-496bbcf37bcf"
      },
      "source": [
        "type(4+3j)"
      ],
      "execution_count": null,
      "outputs": [
        {
          "output_type": "execute_result",
          "data": {
            "text/plain": [
              "complex"
            ]
          },
          "metadata": {},
          "execution_count": 5
        }
      ]
    },
    {
      "cell_type": "code",
      "metadata": {
        "colab": {
          "base_uri": "https://localhost:8080/"
        },
        "id": "tDH1cOPfZGRh",
        "outputId": "251c0b11-f03c-4fb1-a325-fed21e7445ca"
      },
      "source": [
        "# Input and Output\n",
        "a = 10\n",
        "print('The value of a is',a)\n",
        "a = input()\n",
        "print(a)\n",
        "type(a)"
      ],
      "execution_count": null,
      "outputs": [
        {
          "output_type": "stream",
          "name": "stdout",
          "text": [
            "The value of a is 10\n",
            "674\n",
            "674\n"
          ]
        },
        {
          "output_type": "execute_result",
          "data": {
            "text/plain": [
              "str"
            ]
          },
          "metadata": {},
          "execution_count": 6
        }
      ]
    },
    {
      "cell_type": "markdown",
      "metadata": {
        "id": "j13wEHJfWKTT"
      },
      "source": [
        "# Strings\n",
        "- sequence of characters enclosed by single or double quotes"
      ]
    },
    {
      "cell_type": "code",
      "metadata": {
        "colab": {
          "base_uri": "https://localhost:8080/"
        },
        "id": "w9QJ-vFMaKKr",
        "outputId": "b83828d3-b8f9-4b51-b425-a9385a679a0b"
      },
      "source": [
        "s = \"Hello Alien!!!\"\n",
        "print(s)\n",
        "print(s[0])\n",
        "print(len(s))\n",
        "print(s[-2])"
      ],
      "execution_count": null,
      "outputs": [
        {
          "output_type": "stream",
          "name": "stdout",
          "text": [
            "Hello Alien!!!\n",
            "H\n",
            "14\n",
            "!\n"
          ]
        }
      ]
    },
    {
      "cell_type": "markdown",
      "metadata": {
        "id": "PM11LP3mcFOj"
      },
      "source": [
        "# Subtring- String slicing"
      ]
    },
    {
      "cell_type": "code",
      "metadata": {
        "colab": {
          "base_uri": "https://localhost:8080/"
        },
        "id": "XQEWujhMcKgY",
        "outputId": "4e8657b9-9198-448d-b4ba-f1d3b6a4b9ba"
      },
      "source": [
        "print(s[1:5])\n",
        "# Stride - increment by 2\n",
        "print(s[1:5:2])\n",
        "print(s[6:])\n",
        "print(s[::2])\n",
        "print(s[::-1])"
      ],
      "execution_count": null,
      "outputs": [
        {
          "output_type": "stream",
          "name": "stdout",
          "text": [
            "ello\n",
            "el\n",
            "Alien!!!\n",
            "HloAin!\n",
            "!!!neilA olleH\n"
          ]
        }
      ]
    },
    {
      "cell_type": "code",
      "metadata": {
        "colab": {
          "base_uri": "https://localhost:8080/",
          "height": 162
        },
        "id": "WRWXIeSdddmS",
        "outputId": "eabc6633-ec7f-4e6e-e4b7-601e121decc8"
      },
      "source": [
        "s[0]='X'"
      ],
      "execution_count": null,
      "outputs": [
        {
          "output_type": "error",
          "ename": "TypeError",
          "evalue": "ignored",
          "traceback": [
            "\u001b[0;31m---------------------------------------------------------------------------\u001b[0m",
            "\u001b[0;31mTypeError\u001b[0m                                 Traceback (most recent call last)",
            "\u001b[0;32m<ipython-input-23-6991979134fb>\u001b[0m in \u001b[0;36m<module>\u001b[0;34m()\u001b[0m\n\u001b[0;32m----> 1\u001b[0;31m \u001b[0ms\u001b[0m\u001b[0;34m[\u001b[0m\u001b[0;36m0\u001b[0m\u001b[0;34m]\u001b[0m\u001b[0;34m=\u001b[0m\u001b[0;34m'X'\u001b[0m\u001b[0;34m\u001b[0m\u001b[0;34m\u001b[0m\u001b[0m\n\u001b[0m",
            "\u001b[0;31mTypeError\u001b[0m: 'str' object does not support item assignment"
          ]
        }
      ]
    },
    {
      "cell_type": "markdown",
      "metadata": {
        "id": "-yAZ-eLbdi1p"
      },
      "source": [
        "Strings are immutable"
      ]
    },
    {
      "cell_type": "code",
      "metadata": {
        "colab": {
          "base_uri": "https://localhost:8080/"
        },
        "id": "oIzrqLFFdm1U",
        "outputId": "9d420f45-c76a-4f5c-b076-dd55201f2133"
      },
      "source": [
        "s=\"hello alien\"\n",
        "s=s*5\n",
        "print(s)\n",
        "d=s.upper()\n",
        "print(d)\n",
        "d=s.split('l')\n",
        "print(d)"
      ],
      "execution_count": null,
      "outputs": [
        {
          "output_type": "stream",
          "name": "stdout",
          "text": [
            "hello alienhello alienhello alienhello alienhello alien\n",
            "HELLO ALIENHELLO ALIENHELLO ALIENHELLO ALIENHELLO ALIEN\n",
            "['he', '', 'o a', 'ienhe', '', 'o a', 'ienhe', '', 'o a', 'ienhe', '', 'o a', 'ienhe', '', 'o a', 'ien']\n"
          ]
        }
      ]
    },
    {
      "cell_type": "markdown",
      "metadata": {
        "id": "6ReK6VB-eD85"
      },
      "source": [
        "# Lists\n",
        "- elements written within brackets\n",
        "- separated by commas\n",
        "- Lists are mutable"
      ]
    },
    {
      "cell_type": "code",
      "metadata": {
        "colab": {
          "base_uri": "https://localhost:8080/"
        },
        "id": "Ma9RNOYweRIf",
        "outputId": "2e637f2b-5365-43b6-b03d-f7fccddd9f9e"
      },
      "source": [
        "my_list=[1,2,3]\n",
        "print(my_list)\n",
        "type(my_list)\n",
        "my_list=my_list + ['Shreya']\n",
        "print(my_list)\n",
        "my_list.pop()\n",
        "print(my_list)\n",
        "my_list.sort(reverse=True)\n",
        "print(my_list)"
      ],
      "execution_count": null,
      "outputs": [
        {
          "output_type": "stream",
          "name": "stdout",
          "text": [
            "[1, 2, 3]\n",
            "[1, 2, 3, 'Shreya']\n",
            "[1, 2, 3]\n",
            "[3, 2, 1]\n"
          ]
        }
      ]
    }
  ]
}