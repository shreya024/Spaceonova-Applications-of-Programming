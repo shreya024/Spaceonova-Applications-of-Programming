{
  "nbformat": 4,
  "nbformat_minor": 0,
  "metadata": {
    "colab": {
      "name": "Spaceonova Day2.ipynb",
      "provenance": [],
      "authorship_tag": "ABX9TyNz2nRDPGNya8h8sZoDd7V5",
      "include_colab_link": true
    },
    "kernelspec": {
      "name": "python3",
      "display_name": "Python 3"
    },
    "language_info": {
      "name": "python"
    }
  },
  "cells": [
    {
      "cell_type": "markdown",
      "metadata": {
        "id": "view-in-github",
        "colab_type": "text"
      },
      "source": [
        "<a href=\"https://colab.research.google.com/github/shreya024/Spaceonova-Applications-of-Programming/blob/main/Day2/Spaceonova_Day2.ipynb\" target=\"_parent\"><img src=\"https://colab.research.google.com/assets/colab-badge.svg\" alt=\"Open In Colab\"/></a>"
      ]
    },
    {
      "cell_type": "markdown",
      "metadata": {
        "id": "t5OCMJ41eenZ"
      },
      "source": [
        "# Dictionary\n",
        "\n",
        "- written in between {}\n",
        "- d={'key':\"value\"}\n",
        "- Every key has a value associated with it\n",
        "- We can mix data types for the values\n",
        "- For keys only numbers or strings\n",
        "- It is mutable\n",
        "- Built-in self addition/subtraction/multiplication ..."
      ]
    },
    {
      "cell_type": "code",
      "metadata": {
        "colab": {
          "base_uri": "https://localhost:8080/"
        },
        "id": "mqCS18rdfgaU",
        "outputId": "33c36dc5-6022-4cd7-aab7-0a5ae364c461"
      },
      "source": [
        "d={'a':1,'b':2,'c':3}\n",
        "print(d['b'])\n",
        "print(type(d))"
      ],
      "execution_count": null,
      "outputs": [
        {
          "output_type": "stream",
          "name": "stdout",
          "text": [
            "2\n",
            "<class 'dict'>\n"
          ]
        }
      ]
    },
    {
      "cell_type": "code",
      "metadata": {
        "colab": {
          "base_uri": "https://localhost:8080/"
        },
        "id": "6rd6nH7rgr7Q",
        "outputId": "26a8568a-ceb3-4b73-a942-70f6bfb88b8c"
      },
      "source": [
        "d['c']=\"Shreya\"\n",
        "print(d)\n",
        "d['c']=d['c'].upper()\n",
        "print(d)"
      ],
      "execution_count": null,
      "outputs": [
        {
          "output_type": "stream",
          "name": "stdout",
          "text": [
            "{'a': 1, 'b': 2, 'c': 'Shreya'}\n",
            "{'a': 1, 'b': 2, 'c': 'SHREYA'}\n"
          ]
        }
      ]
    },
    {
      "cell_type": "markdown",
      "metadata": {
        "id": "KK2B9Li8cLbt"
      },
      "source": [
        "# Nesting with Dictionaries\n",
        "\n",
        "- d={'key1':{'nestkey':{'subnestkey':'value'}}}\n",
        "\n",
        "# Methods\n",
        "- d.keys()\n",
        "- d.values()\n",
        "- d.items() - returns key and value pairs\n"
      ]
    },
    {
      "cell_type": "markdown",
      "metadata": {
        "id": "XEC1pHWLh_82"
      },
      "source": [
        "# Tuples\n",
        "\n",
        "- Tuples are immutable\n",
        "- It does not allow assignment\n",
        "- Where in any case there should not be any accidental modification\n",
        "- provides Data Integrity\n",
        "- very rarely used"
      ]
    },
    {
      "cell_type": "code",
      "metadata": {
        "colab": {
          "base_uri": "https://localhost:8080/"
        },
        "id": "z4glHliIiMsn",
        "outputId": "15e6b197-d91d-4c1c-fcaf-c79b310ccbd1"
      },
      "source": [
        "t=(1,2,3)\n",
        "print(type(t))"
      ],
      "execution_count": null,
      "outputs": [
        {
          "output_type": "stream",
          "name": "stdout",
          "text": [
            "<class 'tuple'>\n"
          ]
        }
      ]
    },
    {
      "cell_type": "markdown",
      "metadata": {
        "id": "uvnmW22li0bd"
      },
      "source": [
        "# Sets\n",
        "\n",
        "- Only has unique Items\n",
        "- Removes duplicates\n",
        "\n",
        "set(list) - to remove duplicacies from a list"
      ]
    },
    {
      "cell_type": "code",
      "metadata": {
        "colab": {
          "base_uri": "https://localhost:8080/"
        },
        "id": "XvAqU5F1jDF4",
        "outputId": "6dd547a2-08b8-4b5b-a0b0-19e6b7a8e0ed"
      },
      "source": [
        "s={1,2,4,5,2,2,2}\n",
        "print(s)"
      ],
      "execution_count": null,
      "outputs": [
        {
          "output_type": "stream",
          "name": "stdout",
          "text": [
            "{1, 2, 4, 5}\n"
          ]
        }
      ]
    },
    {
      "cell_type": "markdown",
      "metadata": {
        "id": "xLu89JU8jslt"
      },
      "source": [
        "# Conditional Statements\n",
        "\n",
        "- if\n",
        "- else\n",
        "- elif\n",
        "- Condition is always followed by a **:**\n",
        "- Follows proper indentation"
      ]
    },
    {
      "cell_type": "code",
      "metadata": {
        "colab": {
          "base_uri": "https://localhost:8080/"
        },
        "id": "GqvYbv4DmQG8",
        "outputId": "6f4f3074-fde3-4dd4-9e2f-03bf2c4a8b91"
      },
      "source": [
        "velocity=11\n",
        "if velocity>11.2:\n",
        "  print(\"Rocket will escape\")\n",
        "else:\n",
        "  print(\"Rocket will not escape\")"
      ],
      "execution_count": null,
      "outputs": [
        {
          "output_type": "stream",
          "name": "stdout",
          "text": [
            "Rocket will not escape\n"
          ]
        }
      ]
    },
    {
      "cell_type": "markdown",
      "metadata": {
        "id": "OGdCLx9vp3Sw"
      },
      "source": [
        "# Functions\n",
        "\n",
        "- prevents code duplication\n",
        "- set of statements before or after\n",
        "- def statement\n",
        "- can return result\n",
        "\n",
        "def name(args):\n",
        "  statements\n",
        "name()"
      ]
    },
    {
      "cell_type": "code",
      "metadata": {
        "colab": {
          "base_uri": "https://localhost:8080/"
        },
        "id": "fbiCuvoeqYVP",
        "outputId": "96b427c3-ebcd-45bc-c7d9-50ef2605ac85"
      },
      "source": [
        "def say_hello():\n",
        "  print(\"Hello!\")\n",
        "\n",
        "say_hello()"
      ],
      "execution_count": null,
      "outputs": [
        {
          "output_type": "stream",
          "name": "stdout",
          "text": [
            "Hello!\n"
          ]
        }
      ]
    }
  ]
}