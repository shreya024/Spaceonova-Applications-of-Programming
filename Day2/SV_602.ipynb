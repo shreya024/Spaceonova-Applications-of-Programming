{
  "nbformat": 4,
  "nbformat_minor": 0,
  "metadata": {
    "kernelspec": {
      "display_name": "Python 3",
      "language": "python",
      "name": "python3"
    },
    "language_info": {
      "codemirror_mode": {
        "name": "ipython",
        "version": 3
      },
      "file_extension": ".py",
      "mimetype": "text/x-python",
      "name": "python",
      "nbconvert_exporter": "python",
      "pygments_lexer": "ipython3",
      "version": "3.8.5"
    },
    "colab": {
      "name": "SV-602.ipynb",
      "provenance": [],
      "include_colab_link": true
    }
  },
  "cells": [
    {
      "cell_type": "markdown",
      "metadata": {
        "id": "view-in-github",
        "colab_type": "text"
      },
      "source": [
        "<a href=\"https://colab.research.google.com/github/shreya024/Spaceonova-Applications-of-Programming/blob/main/Day2/SV_602.ipynb\" target=\"_parent\"><img src=\"https://colab.research.google.com/assets/colab-badge.svg\" alt=\"Open In Colab\"/></a>"
      ]
    },
    {
      "cell_type": "markdown",
      "metadata": {
        "id": "huStxO39N4dl"
      },
      "source": [
        "Before you turn this problem in, make sure everything runs as expected without errors. First, **restart the kernel** (in the menubar, select Kernel$\\rightarrow$Restart) and then **run all cells** (in the menubar, select Cell$\\rightarrow$Run All).\n",
        "\n",
        "Make sure you fill in any place that says `YOUR CODE HERE` or \"YOUR ANSWER HERE\", as well as your name below:"
      ]
    },
    {
      "cell_type": "code",
      "metadata": {
        "id": "rcaSr968N4d5"
      },
      "source": [
        "NAME = \"SHREYA GHOSH\""
      ],
      "execution_count": null,
      "outputs": []
    },
    {
      "cell_type": "markdown",
      "metadata": {
        "id": "20KJF6rQN4d_"
      },
      "source": [
        "---"
      ]
    },
    {
      "cell_type": "markdown",
      "metadata": {
        "id": "fybe8wOMN4eA"
      },
      "source": [
        "# Assignment - 2"
      ]
    },
    {
      "cell_type": "markdown",
      "metadata": {
        "id": "Poo9zpHRN4eB"
      },
      "source": [
        "## Q1\n",
        "Given a dictionary *d*, write a code to get the value `I love Space!` and store it in **ans1**"
      ]
    },
    {
      "cell_type": "code",
      "metadata": {
        "deletable": false,
        "nbgrader": {
          "cell_type": "code",
          "checksum": "31900afbf21f71cf789b5b58df3915fd",
          "grade": false,
          "grade_id": "cell-f4d97d0f546b95c5",
          "locked": false,
          "schema_version": 3,
          "solution": true,
          "task": false
        },
        "colab": {
          "base_uri": "https://localhost:8080/"
        },
        "id": "zcluD0iqN4eD",
        "outputId": "41082aa7-889e-4b17-cb64-6f329255b599"
      },
      "source": [
        "d = {1:{2:3},2:{1:['a','b',[1,2,3]],'3':[\"No\",\"I love Space!\",\"X\"]},'5':'2'}\n",
        "ans1=d[2][\"3\"][1]\n",
        "\n",
        "\n",
        "print(ans1)"
      ],
      "execution_count": null,
      "outputs": [
        {
          "output_type": "stream",
          "name": "stdout",
          "text": [
            "I love Space!\n"
          ]
        }
      ]
    },
    {
      "cell_type": "code",
      "metadata": {
        "deletable": false,
        "editable": false,
        "nbgrader": {
          "cell_type": "code",
          "checksum": "d9d8868247ad30b848dffff760fcf2ef",
          "grade": true,
          "grade_id": "cell-66b047b55925a728",
          "locked": true,
          "points": 1,
          "schema_version": 3,
          "solution": false,
          "task": false
        },
        "id": "1VqfyaDZN4eF"
      },
      "source": [
        ""
      ],
      "execution_count": null,
      "outputs": []
    },
    {
      "cell_type": "markdown",
      "metadata": {
        "id": "LMeBgi6LN4eI"
      },
      "source": [
        "## Q2\n",
        "Given a list *l*, write a code to remove all duplicates and store the result as a list in a sorted order in **ans2**"
      ]
    },
    {
      "cell_type": "code",
      "metadata": {
        "deletable": false,
        "nbgrader": {
          "cell_type": "code",
          "checksum": "a6f6ba10c8d0a6de23037b183c0f58da",
          "grade": false,
          "grade_id": "cell-7bcb12625616ddf7",
          "locked": false,
          "schema_version": 3,
          "solution": true,
          "task": false
        },
        "colab": {
          "base_uri": "https://localhost:8080/"
        },
        "id": "H586c2zwN4eK",
        "outputId": "c960809f-3850-4a6f-f353-6441abec8de0"
      },
      "source": [
        "l = [1,2,3,23,23,3,13,3,13,13,13,13,13,13,23,23,121,21,31,32,4,2,1]\n",
        "s=set(l)\n",
        "list_unique=list(s)\n",
        "list_unique.sort()\n",
        "ans2 = list_unique\n",
        "\n",
        "print(ans2)"
      ],
      "execution_count": null,
      "outputs": [
        {
          "output_type": "stream",
          "name": "stdout",
          "text": [
            "[1, 2, 3, 4, 13, 21, 23, 31, 32, 121]\n"
          ]
        }
      ]
    },
    {
      "cell_type": "code",
      "metadata": {
        "deletable": false,
        "editable": false,
        "nbgrader": {
          "cell_type": "code",
          "checksum": "f97c8dcd0908cbbbc3ec5ccf9bdfc953",
          "grade": true,
          "grade_id": "cell-ac35bcbdd65755c9",
          "locked": true,
          "points": 1,
          "schema_version": 3,
          "solution": false,
          "task": false
        },
        "id": "pUi8xUTnN4eM"
      },
      "source": [
        ""
      ],
      "execution_count": null,
      "outputs": []
    },
    {
      "cell_type": "markdown",
      "metadata": {
        "id": "MqsJRvKON4eO"
      },
      "source": [
        "## Q3\n",
        "Complete the function `leap_year()` which takes a 4 digit number as an argument `year` and **returns** whether the year is a leap year or not"
      ]
    },
    {
      "cell_type": "code",
      "metadata": {
        "deletable": false,
        "nbgrader": {
          "cell_type": "code",
          "checksum": "d42c159dfcf7c56cd88fb5f339c7422d",
          "grade": false,
          "grade_id": "cell-c5576df343c11577",
          "locked": false,
          "schema_version": 3,
          "solution": true,
          "task": false
        },
        "colab": {
          "base_uri": "https://localhost:8080/"
        },
        "id": "9gmvA09pN4eQ",
        "outputId": "ce6ddd37-90ee-4995-9ee4-1c5376ae622d"
      },
      "source": [
        "def leap_year(year):\n",
        "    if(year%400==0 or year%4==0 and year%100!=0):\n",
        "      return True\n",
        "    else:\n",
        "      return False\n",
        "leap_year(1804)"
      ],
      "execution_count": null,
      "outputs": [
        {
          "output_type": "execute_result",
          "data": {
            "text/plain": [
              "True"
            ]
          },
          "metadata": {},
          "execution_count": 32
        }
      ]
    },
    {
      "cell_type": "code",
      "metadata": {
        "deletable": false,
        "editable": false,
        "nbgrader": {
          "cell_type": "code",
          "checksum": "a3bfef4e88823b2ce2247be2aa2b7c48",
          "grade": true,
          "grade_id": "cell-535e31b449c845b8",
          "locked": true,
          "points": 1,
          "schema_version": 3,
          "solution": false,
          "task": false
        },
        "id": "ZV1SvDa7N4eS"
      },
      "source": [
        "#Tests (Must pass without error)\n",
        "assert leap_year(2020)==True\n",
        "assert leap_year(2021)==False\n",
        "assert leap_year(2000)==True\n",
        "assert leap_year(1900)==False\n",
        "assert leap_year(1804)==True"
      ],
      "execution_count": null,
      "outputs": []
    },
    {
      "cell_type": "markdown",
      "metadata": {
        "id": "AvCtJU1CN4eT"
      },
      "source": [
        "## Q4\n",
        "\n",
        "Complete the function `get_grade()` which takes a number as an argument `marks` and returns the grade according to the following criteria:\n",
        "\n",
        "         Marks                                    Grade\n",
        "         > 90                                       O\n",
        "         > 80 and <= 90                             A\n",
        "         >= 60 and <= 80                            B\n",
        "         below 60                                   C"
      ]
    },
    {
      "cell_type": "code",
      "metadata": {
        "deletable": false,
        "nbgrader": {
          "cell_type": "code",
          "checksum": "96eea578635f3142d5d2ac81ff28b661",
          "grade": false,
          "grade_id": "cell-8b9e891026d35ce9",
          "locked": false,
          "schema_version": 3,
          "solution": true,
          "task": false
        },
        "colab": {
          "base_uri": "https://localhost:8080/",
          "height": 35
        },
        "id": "gvULjVsjN4eU",
        "outputId": "adc4d480-02b1-407e-b61c-8eed02376c72"
      },
      "source": [
        "def get_grade(marks):\n",
        "    \n",
        "    if(marks>90):\n",
        "      return 'O'\n",
        "    elif(marks>80 and marks<=90):\n",
        "      return 'A'\n",
        "    elif(marks>=60 and marks<=80):\n",
        "      return 'B'\n",
        "    else:\n",
        "      return 'C'\n",
        "get_grade(99)"
      ],
      "execution_count": null,
      "outputs": [
        {
          "output_type": "execute_result",
          "data": {
            "application/vnd.google.colaboratory.intrinsic+json": {
              "type": "string"
            },
            "text/plain": [
              "'O'"
            ]
          },
          "metadata": {},
          "execution_count": 33
        }
      ]
    },
    {
      "cell_type": "code",
      "metadata": {
        "deletable": false,
        "editable": false,
        "nbgrader": {
          "cell_type": "code",
          "checksum": "45ce05c86830ff20b2b0a9a63567d497",
          "grade": true,
          "grade_id": "cell-ed5363bca4e1e165",
          "locked": true,
          "points": 1,
          "schema_version": 3,
          "solution": false,
          "task": false
        },
        "id": "-68beAhUN4eV"
      },
      "source": [
        "#Tests (Must pass without error)\n",
        "assert get_grade(77)=='B'\n",
        "assert get_grade(60)=='B'\n",
        "assert get_grade(90)=='A'\n",
        "assert get_grade(44)=='C'\n",
        "assert get_grade(100)=='O'\n",
        "assert get_grade(80)=='B'"
      ],
      "execution_count": null,
      "outputs": []
    },
    {
      "cell_type": "markdown",
      "metadata": {
        "id": "yMB8b0ydN4eW"
      },
      "source": [
        "## Q5\n",
        "\n",
        "Complete the function `get_middle_digit()` which takes a number of odd length as an argument `num` and **returns** the number in the middle."
      ]
    },
    {
      "cell_type": "code",
      "metadata": {
        "deletable": false,
        "nbgrader": {
          "cell_type": "code",
          "checksum": "b846764c88a68189211871a5c6d05298",
          "grade": false,
          "grade_id": "cell-d953d773c76a4ded",
          "locked": false,
          "schema_version": 3,
          "solution": true,
          "task": false
        },
        "colab": {
          "base_uri": "https://localhost:8080/"
        },
        "id": "UmZle0L6N4eX",
        "outputId": "348c6489-faa1-4d0c-aa1f-01e914705075"
      },
      "source": [
        "def get_middle_digit(num):\n",
        "    length=len(str(num))\n",
        "    length=int(length/2)\n",
        "    number=int(num/(10**length)%10)\n",
        "    return number\n",
        "get_middle_digit(777)"
      ],
      "execution_count": null,
      "outputs": [
        {
          "output_type": "execute_result",
          "data": {
            "text/plain": [
              "7"
            ]
          },
          "metadata": {},
          "execution_count": 52
        }
      ]
    },
    {
      "cell_type": "code",
      "metadata": {
        "deletable": false,
        "editable": false,
        "nbgrader": {
          "cell_type": "code",
          "checksum": "d25bc6a53684bc9c5ef97f70714a4ff8",
          "grade": true,
          "grade_id": "cell-0eca0395959bc199",
          "locked": true,
          "points": 1,
          "schema_version": 3,
          "solution": false,
          "task": false
        },
        "id": "OOqo0igBN4eY"
      },
      "source": [
        "#Tests (Must pass without error)\n",
        "assert get_middle_digit(777)==7\n",
        "assert get_middle_digit(123454321)==5\n",
        "assert get_middle_digit(1234321)==4\n",
        "assert get_middle_digit(1234567890987654321)==0\n",
        "assert get_middle_digit(1)==1"
      ],
      "execution_count": null,
      "outputs": []
    },
    {
      "cell_type": "code",
      "metadata": {
        "id": "L-qT1Ns9N4eZ"
      },
      "source": [
        ""
      ],
      "execution_count": null,
      "outputs": []
    }
  ]
}